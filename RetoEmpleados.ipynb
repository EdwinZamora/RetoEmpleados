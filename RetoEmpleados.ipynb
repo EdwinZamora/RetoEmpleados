{
  "metadata": {
    "kernelspec": {
      "name": "python",
      "display_name": "Python (Pyodide)",
      "language": "python"
    },
    "language_info": {
      "codemirror_mode": {
        "name": "python",
        "version": 3
      },
      "file_extension": ".py",
      "mimetype": "text/x-python",
      "name": "python",
      "nbconvert_exporter": "python",
      "pygments_lexer": "ipython3",
      "version": "3.8"
    }
  },
  "nbformat_minor": 5,
  "nbformat": 4,
  "cells": [
    {
      "id": "bde3b230-284d-4b6a-bba1-b5de03428d83",
      "cell_type": "code",
      "source": "import pandas as pd\nimport numpy as np\nfrom sklearn.preprocessing import MinMaxScaler, LabelEncoder\nfrom sklearn.decomposition import PCA\n",
      "metadata": {
        "trusted": true
      },
      "outputs": [],
      "execution_count": null
    },
    {
      "id": "2a336146-3dcf-4846-9dbd-e9c1074678c9",
      "cell_type": "code",
      "source": "# Leer el archivo CSV\nEmpleadosAttrition = pd.read_csv('empleadosRETO.csv')\n\n# Eliminar columnas irrelevantes\nEmpleadosAttrition.drop(['EmployeeCount', 'EmployeeNumber', 'Over18', 'StandardHours'], axis=1, inplace=True)\n",
      "metadata": {
        "trusted": true
      },
      "outputs": [],
      "execution_count": null
    },
    {
      "id": "e1a90bed-0b11-43d4-b694-2173b90e9638",
      "cell_type": "code",
      "source": "# Crear columna 'Year' con el año de contratación, ignorando errores\nEmpleadosAttrition['Year'] = pd.to_datetime(EmpleadosAttrition['HiringDate'], errors='coerce').dt.year\n\n# Eliminar filas con fechas inválidas\nEmpleadosAttrition.dropna(subset=['Year'], inplace=True)\n",
      "metadata": {
        "trusted": true
      },
      "outputs": [],
      "execution_count": null
    },
    {
      "id": "d362b3c9-4e47-4c44-ad13-ee322abb323e",
      "cell_type": "code",
      "source": "# Crear columna 'YearsAtCompany' calculando el tiempo hasta el año 2018\nEmpleadosAttrition['YearsAtCompany'] = 2018 - EmpleadosAttrition['Year']\n",
      "metadata": {
        "trusted": true
      },
      "outputs": [],
      "execution_count": null
    },
    {
      "id": "936ae9d3-ebfa-4037-bd61-0a1b53573ad3",
      "cell_type": "code",
      "source": "# Limpiar la columna 'DistanceFromHome' y renombrar\nEmpleadosAttrition.rename(columns={'DistanceFromHome': 'DistanceFromHome_km'}, inplace=True)\nEmpleadosAttrition['DistanceFromHome'] = EmpleadosAttrition['DistanceFromHome_km'].str.replace('km', '').astype(int)\n\n# Eliminar columnas innecesarias\nEmpleadosAttrition.drop(['Year', 'HiringDate', 'DistanceFromHome_km'], axis=1, inplace=True)\n",
      "metadata": {
        "trusted": true
      },
      "outputs": [],
      "execution_count": null
    },
    {
      "id": "970506f7-c3a6-4456-8fd9-af098fc12705",
      "cell_type": "code",
      "source": "# Escalar la variable MonthlyIncome entre 0 y 1\nscaler = MinMaxScaler()\nEmpleadosAttrition['MonthlyIncome'] = scaler.fit_transform(EmpleadosAttrition[['MonthlyIncome']])\n",
      "metadata": {
        "trusted": true
      },
      "outputs": [],
      "execution_count": null
    },
    {
      "id": "7b283300-f4a9-4685-84c9-af03bc2d3bde",
      "cell_type": "code",
      "source": "# Leer nuevamente el archivo para restaurar los datos originales\nEmpleadosAttrition = pd.read_csv('empleadosRETO.csv')\n\n# Convertir variables categóricas a numéricas\nlabel_encoders = {}\nvariables_categoricas = ['BusinessTravel', 'Department', 'EducationField', 'Gender', 'JobRole', 'MaritalStatus']\n\nfor column in variables_categoricas:\n    if column in EmpleadosAttrition.columns:  # Asegurar que la columna existe antes de convertir\n        le = LabelEncoder()\n        EmpleadosAttrition[column] = le.fit_transform(EmpleadosAttrition[column])\n        label_encoders[column] = le\n\n# Convertir 'Attrition' y 'OverTime' explícitamente a 0 y 1\nEmpleadosAttrition['Attrition'] = EmpleadosAttrition['Attrition'].apply(lambda x: 1 if x == 'Yes' else 0)\nEmpleadosAttrition['OverTime'] = EmpleadosAttrition['OverTime'].apply(lambda x: 1 if x == 'Yes' else 0)\n\n# Forzar la conversión a numérica de todo el DataFrame (donde se pueda)\nEmpleadosAttrition = EmpleadosAttrition.apply(pd.to_numeric, errors='coerce')\n\n# Reemplazar NaN resultantes por 0\nEmpleadosAttrition.fillna(0, inplace=True)\n\n# Confirmar que las columnas 'Attrition' y 'OverTime' se convirtieron correctamente\nprint(\"Valores únicos en 'Attrition':\", EmpleadosAttrition['Attrition'].unique())\nprint(\"Valores únicos en 'OverTime':\", EmpleadosAttrition['OverTime'].unique())\n\n# Calcular la correlación con 'Attrition'\ncorrelaciones = EmpleadosAttrition.corr(numeric_only=True)['Attrition']\nprint(\"Correlaciones con 'Attrition':\\n\", correlaciones)",
      "metadata": {
        "trusted": true
      },
      "outputs": [],
      "execution_count": null
    },
    {
      "id": "447e5c77-0211-45e8-a5f7-0ce61313f50d",
      "cell_type": "code",
      "source": "# Realizar PCA para obtener componentes principales\npca = PCA()\nEmpleadosAttritionPCA = pca.fit_transform(EmpleadosAttritionFinal.drop(['Attrition'], axis=1))\n\n# Seleccionar componentes principales que explican al menos el 80% de la varianza\nvarianza_acumulada = np.cumsum(pca.explained_variance_ratio_)\ncomponentes_necesarios = np.where(varianza_acumulada >= 0.8)[0][0] + 1\n",
      "metadata": {
        "trusted": true
      },
      "outputs": [],
      "execution_count": null
    },
    {
      "id": "14f4560c-0701-4c2a-828e-1d55e51a4740",
      "cell_type": "code",
      "source": "# Agregar componentes principales al DataFrame final\nfor i in range(componentes_necesarios):\n    EmpleadosAttritionFinal[f'C{i}'] = EmpleadosAttritionPCA[:, i]\n",
      "metadata": {
        "trusted": true
      },
      "outputs": [],
      "execution_count": null
    },
    {
      "id": "c4b78cc2-4fec-4ce2-abd0-33ae1e30195f",
      "cell_type": "code",
      "source": "# Guardar el archivo final\nEmpleadosAttritionFinal.to_csv('EmpleadosAttritionFinal.csv', index=False)\n",
      "metadata": {
        "trusted": true
      },
      "outputs": [],
      "execution_count": null
    },
    {
      "id": "ed885830-e262-45ed-908e-5188f6e2f360",
      "cell_type": "code",
      "source": "",
      "metadata": {
        "trusted": true
      },
      "outputs": [],
      "execution_count": null
    }
  ]
}